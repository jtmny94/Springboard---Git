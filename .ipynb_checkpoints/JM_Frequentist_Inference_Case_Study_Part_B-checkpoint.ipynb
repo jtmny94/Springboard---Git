{
 "cells": [
  {
   "cell_type": "markdown",
   "metadata": {},
   "source": [
    "# Frequentist Inference Case Study - Part B"
   ]
  },
  {
   "cell_type": "markdown",
   "metadata": {},
   "source": [
    "## Learning objectives"
   ]
  },
  {
   "cell_type": "markdown",
   "metadata": {},
   "source": [
    "Welcome to Part B of the Frequentist inference case study! The purpose of this case study is to help you apply the concepts associated with Frequentist inference in Python. In particular, you'll practice writing Python code to apply the following statistical concepts: \n",
    "* the _z_-statistic\n",
    "* the _t_-statistic\n",
    "* the difference and relationship between the two\n",
    "* the Central Limit Theorem, including its assumptions and consequences\n",
    "* how to estimate the population mean and standard deviation from a sample\n",
    "* the concept of a sampling distribution of a test statistic, particularly for the mean\n",
    "* how to combine these concepts to calculate a confidence interval"
   ]
  },
  {
   "cell_type": "markdown",
   "metadata": {},
   "source": [
    "In the previous notebook, we used only data from a known normal distribution. **You'll now tackle real data, rather than simulated data, and answer some relevant real-world business problems using the data.**"
   ]
  },
  {
   "cell_type": "markdown",
   "metadata": {},
   "source": [
    "## Hospital medical charges"
   ]
  },
  {
   "cell_type": "markdown",
   "metadata": {},
   "source": [
    "Imagine that a hospital has hired you as their data scientist. An administrator is working on the hospital's business operations plan and needs you to help them answer some business questions. \n",
    "\n",
    "In this assignment notebook, you're going to use frequentist statistical inference on a data sample to answer the questions:\n",
    "* has the hospital's revenue stream fallen below a key threshold?\n",
    "* are patients with insurance really charged different amounts than those without?\n",
    "\n",
    "Answering that last question with a frequentist approach makes some assumptions, and requires some knowledge, about the two groups."
   ]
  },
  {
   "cell_type": "markdown",
   "metadata": {},
   "source": [
    "We are going to use some data on medical charges obtained from [Kaggle](https://www.kaggle.com/easonlai/sample-insurance-claim-prediction-dataset). \n",
    "\n",
    "For the purposes of this exercise, assume the observations are the result of random sampling from our single hospital. Recall that in the previous assignment, we introduced the Central Limit Theorem (CLT), and its consequence that the distributions of sample statistics approach a normal distribution as $n$ increases. The amazing thing about this is that it applies to the sampling distributions of statistics that have been calculated from even highly non-normal distributions of data! Recall, also, that hypothesis testing is very much based on making inferences about such sample statistics. You're going to rely heavily on the CLT to apply frequentist (parametric) tests to answer the questions in this notebook."
   ]
  },
  {
   "cell_type": "code",
   "execution_count": 33,
   "metadata": {},
   "outputs": [],
   "source": [
    "import pandas as pd\n",
    "import numpy as np\n",
    "import matplotlib.pyplot as plt\n",
    "from scipy.stats import t\n",
    "from numpy.random import seed\n",
    "medical = pd.read_csv('insurance2.csv')"
   ]
  },
  {
   "cell_type": "code",
   "execution_count": 34,
   "metadata": {},
   "outputs": [
    {
     "data": {
      "text/plain": [
       "(1338, 8)"
      ]
     },
     "execution_count": 34,
     "metadata": {},
     "output_type": "execute_result"
    }
   ],
   "source": [
    "medical.shape"
   ]
  },
  {
   "cell_type": "code",
   "execution_count": 35,
   "metadata": {},
   "outputs": [
    {
     "data": {
      "text/html": [
       "<div>\n",
       "<style scoped>\n",
       "    .dataframe tbody tr th:only-of-type {\n",
       "        vertical-align: middle;\n",
       "    }\n",
       "\n",
       "    .dataframe tbody tr th {\n",
       "        vertical-align: top;\n",
       "    }\n",
       "\n",
       "    .dataframe thead th {\n",
       "        text-align: right;\n",
       "    }\n",
       "</style>\n",
       "<table border=\"1\" class=\"dataframe\">\n",
       "  <thead>\n",
       "    <tr style=\"text-align: right;\">\n",
       "      <th></th>\n",
       "      <th>age</th>\n",
       "      <th>sex</th>\n",
       "      <th>bmi</th>\n",
       "      <th>children</th>\n",
       "      <th>smoker</th>\n",
       "      <th>region</th>\n",
       "      <th>charges</th>\n",
       "      <th>insuranceclaim</th>\n",
       "    </tr>\n",
       "  </thead>\n",
       "  <tbody>\n",
       "    <tr>\n",
       "      <th>0</th>\n",
       "      <td>19</td>\n",
       "      <td>0</td>\n",
       "      <td>27.900</td>\n",
       "      <td>0</td>\n",
       "      <td>1</td>\n",
       "      <td>3</td>\n",
       "      <td>16884.92400</td>\n",
       "      <td>1</td>\n",
       "    </tr>\n",
       "    <tr>\n",
       "      <th>1</th>\n",
       "      <td>18</td>\n",
       "      <td>1</td>\n",
       "      <td>33.770</td>\n",
       "      <td>1</td>\n",
       "      <td>0</td>\n",
       "      <td>2</td>\n",
       "      <td>1725.55230</td>\n",
       "      <td>1</td>\n",
       "    </tr>\n",
       "    <tr>\n",
       "      <th>2</th>\n",
       "      <td>28</td>\n",
       "      <td>1</td>\n",
       "      <td>33.000</td>\n",
       "      <td>3</td>\n",
       "      <td>0</td>\n",
       "      <td>2</td>\n",
       "      <td>4449.46200</td>\n",
       "      <td>0</td>\n",
       "    </tr>\n",
       "    <tr>\n",
       "      <th>3</th>\n",
       "      <td>33</td>\n",
       "      <td>1</td>\n",
       "      <td>22.705</td>\n",
       "      <td>0</td>\n",
       "      <td>0</td>\n",
       "      <td>1</td>\n",
       "      <td>21984.47061</td>\n",
       "      <td>0</td>\n",
       "    </tr>\n",
       "    <tr>\n",
       "      <th>4</th>\n",
       "      <td>32</td>\n",
       "      <td>1</td>\n",
       "      <td>28.880</td>\n",
       "      <td>0</td>\n",
       "      <td>0</td>\n",
       "      <td>1</td>\n",
       "      <td>3866.85520</td>\n",
       "      <td>1</td>\n",
       "    </tr>\n",
       "  </tbody>\n",
       "</table>\n",
       "</div>"
      ],
      "text/plain": [
       "   age  sex     bmi  children  smoker  region      charges  insuranceclaim\n",
       "0   19    0  27.900         0       1       3  16884.92400               1\n",
       "1   18    1  33.770         1       0       2   1725.55230               1\n",
       "2   28    1  33.000         3       0       2   4449.46200               0\n",
       "3   33    1  22.705         0       0       1  21984.47061               0\n",
       "4   32    1  28.880         0       0       1   3866.85520               1"
      ]
     },
     "execution_count": 35,
     "metadata": {},
     "output_type": "execute_result"
    }
   ],
   "source": [
    "medical.head()"
   ]
  },
  {
   "cell_type": "markdown",
   "metadata": {},
   "source": [
    "__Q1:__ Plot the histogram of charges and calculate the mean and standard deviation. Comment on the appropriateness of these statistics for the data."
   ]
  },
  {
   "cell_type": "markdown",
   "metadata": {},
   "source": [
    "__A:__"
   ]
  },
  {
   "cell_type": "code",
   "execution_count": 36,
   "metadata": {},
   "outputs": [
    {
     "name": "stdout",
     "output_type": "stream",
     "text": [
      "The mean is $13,270.42.\n",
      "The standard deviation is $12,110.01.\n"
     ]
    }
   ],
   "source": [
    "print(f'The mean is ${medical['charges'].mean():,.2f}.')\n",
    "print(f'The standard deviation is ${medical['charges'].std():,.2f}.')"
   ]
  },
  {
   "cell_type": "code",
   "execution_count": 37,
   "metadata": {},
   "outputs": [
    {
     "data": {
      "image/png": "[encoded data removed]",
      "text/plain": [
       "<Figure size 640x480 with 1 Axes>"
      ]
     },
     "metadata": {},
     "output_type": "display_data"
    }
   ],
   "source": [
    "_ = plt.hist(medical['charges'])\n",
    "_ = plt.xlabel('Amount charged')\n",
    "_ = plt.ylabel('Number of charges')\n",
    "_ = plt.show()"
   ]
  },
  {
   "cell_type": "markdown",
   "metadata": {},
   "source": [
    "__Q2:__ The administrator is concerned that the actual average charge has fallen below 12,000, threatening the hospital's operational model. On the assumption that these data represent a random sample of charges, how would you justify that these data allow you to answer that question? And what would be the most appropriate frequentist test, of the ones discussed so far, to apply?"
   ]
  },
  {
   "cell_type": "markdown",
   "metadata": {},
   "source": [
    "__A:__\n",
    "\n",
    "This data can answer the question as the data is from a large, random sample, so the sample mean and standard deviation can be used to infer the population mean via the CLT. "
   ]
  },
  {
   "cell_type": "markdown",
   "metadata": {},
   "source": [
    "__Q3:__ Given the nature of the administrator's concern, what is the appropriate confidence interval in this case? A ***one-sided*** or ***two-sided*** interval? (Refresh your understanding of this concept on p. 399 of the *AoS*). Calculate the critical value and the relevant 95% confidence interval for the mean, and comment on whether the administrator should be concerned."
   ]
  },
  {
   "cell_type": "markdown",
   "metadata": {},
   "source": [
    "__A:__"
   ]
  },
  {
   "cell_type": "code",
   "execution_count": 38,
   "metadata": {},
   "outputs": [
    {
     "name": "stdout",
     "output_type": "stream",
     "text": [
      "1.6459941145571317\n"
     ]
    }
   ],
   "source": [
    "n = medical['charges'].count()\n",
    "t_critical = t.ppf(0.95, n-1)\n",
    "print(t_critical)"
   ]
  },
  {
   "cell_type": "code",
   "execution_count": 39,
   "metadata": {},
   "outputs": [
    {
     "name": "stdout",
     "output_type": "stream",
     "text": [
      "544.9350813250254\n"
     ]
    }
   ],
   "source": [
    "charges_std = medical['charges'].std()\n",
    "margin_of_error = t_critical * stats.sem(medical['charges'])\n",
    "print(margin_of_error)"
   ]
  },
  {
   "cell_type": "code",
   "execution_count": 40,
   "metadata": {},
   "outputs": [
    {
     "name": "stdout",
     "output_type": "stream",
     "text": [
      "12725.48718381623\n"
     ]
    }
   ],
   "source": [
    "charges_mean = medical['charges'].mean()\n",
    "confidence_interval = (charges_mean - margin_of_error)\n",
    "print(confidence_interval)"
   ]
  },
  {
   "cell_type": "markdown",
   "metadata": {},
   "source": [
    "With the predicted confidence interval of 95% that an average charge will be above `$`12,000, the administrator should not be concerned. A one-sided interval is appropriate as the administrator wants to ensure that the average charge is above `$`12,000 - he/she is not concerned that the average charge is between two values, which would constitute a two-sided interval."
   ]
  },
  {
   "cell_type": "markdown",
   "metadata": {},
   "source": [
    "The administrator then wants to know whether people with insurance really are charged a different amount to those without.\n",
    "\n",
    "__Q4:__ State the null and alternative hypothesis here. Use the _t_-test for the difference between means, where the pooled standard deviation of the two groups is given by:\n",
    "\\begin{equation}\n",
    "s_p = \\sqrt{\\frac{(n_0 - 1)s^2_0 + (n_1 - 1)s^2_1}{n_0 + n_1 - 2}}\n",
    "\\end{equation}\n",
    "\n",
    "and the *t*-test statistic is then given by:\n",
    "\n",
    "\\begin{equation}\n",
    "t = \\frac{\\bar{x}_0 - \\bar{x}_1}{s_p \\sqrt{1/n_0 + 1/n_1}}.\n",
    "\\end{equation}\n",
    "\n",
    "(If you need some reminding of the general definition of ***t-statistic***, check out the definition on p. 404 of *AoS*). \n",
    "\n",
    "What assumption about the variances of the two groups are we making here?"
   ]
  },
  {
   "cell_type": "markdown",
   "metadata": {},
   "source": [
    "__A:__\n",
    "\n",
    "The assumption is that there is no variance between the two groups. "
   ]
  },
  {
   "cell_type": "markdown",
   "metadata": {},
   "source": [
    "__Q5:__ Perform this hypothesis test both manually, using the above formulae, and then using the appropriate function from [scipy.stats](https://docs.scipy.org/doc/scipy/reference/stats.html#statistical-tests) (hint, you're looking for a function to perform a _t_-test on two independent samples). For the manual approach, calculate the value of the test statistic and then its probability (the p-value). Verify you get the same results from both."
   ]
  },
  {
   "cell_type": "markdown",
   "metadata": {},
   "source": [
    "__A:__ "
   ]
  },
  {
   "cell_type": "code",
   "execution_count": 20,
   "metadata": {},
   "outputs": [],
   "source": [
    "# Manual t-test\n",
    "\n",
    "charges_count = medical.groupby('insuranceclaim')['charges'].count()\n",
    "std_by_insurance = medical.groupby('insuranceclaim')['charges'].std()"
   ]
  },
  {
   "cell_type": "code",
   "execution_count": 21,
   "metadata": {},
   "outputs": [
    {
     "name": "stdout",
     "output_type": "stream",
     "text": [
      "11520.034268775256\n"
     ]
    }
   ],
   "source": [
    "n_0 = charges_count[0]\n",
    "n_1 = charges_count[1]\n",
    "s_0 = std_by_insurance[0]\n",
    "s_1 = std_by_insurance[1]\n",
    "s_p = np.sqrt(\n",
    "    ((n_0 - 1) * s_0 ** 2 + (n_1 - 1) * s_1 **2)/\n",
    "    (n_0 + n_1 - 2))\n",
    "print(s_p)"
   ]
  },
  {
   "cell_type": "code",
   "execution_count": 22,
   "metadata": {},
   "outputs": [
    {
     "name": "stdout",
     "output_type": "stream",
     "text": [
      "-11.893299030876715\n"
     ]
    }
   ],
   "source": [
    "mean_by_insurance = medical.groupby('insuranceclaim')['charges'].mean()\n",
    "x_0 = mean_by_insurance[0]\n",
    "x_1 = mean_by_insurance[1]\n",
    "t_manual = (x_0 - x_1)/(s_p * np.sqrt((1/n_0) + (1/n_1)))\n",
    "print(t_manual)"
   ]
  },
  {
   "cell_type": "code",
   "execution_count": 23,
   "metadata": {},
   "outputs": [],
   "source": [
    "# scipy.stats t-test\n",
    "\n",
    "from scipy import stats"
   ]
  },
  {
   "cell_type": "code",
   "execution_count": 24,
   "metadata": {},
   "outputs": [
    {
     "name": "stdout",
     "output_type": "stream",
     "text": [
      "-11.893299030876719 4.4612302316203985e-31\n"
     ]
    }
   ],
   "source": [
    "t, p = stats.ttest_ind_from_stats(x_0, s_0, n_0, x_1, s_1, n_1)\n",
    "print(t, p)"
   ]
  },
  {
   "cell_type": "markdown",
   "metadata": {},
   "source": [
    "Congratulations! Hopefully you got the exact same numerical results. This shows that you correctly calculated the numbers by hand. Secondly, you used the correct function and saw that it's much easier to use. All you need to do is pass your data to it."
   ]
  },
  {
   "cell_type": "markdown",
   "metadata": {},
   "source": [
    "__Q6:__ Conceptual question: look through the documentation for statistical test functions in scipy.stats. You'll see the above _t_-test for a sample, but can you see an equivalent one for performing a *z*-test from a sample? Comment on your answer."
   ]
  },
  {
   "cell_type": "code",
   "execution_count": 25,
   "metadata": {},
   "outputs": [
    {
     "data": {
      "text/plain": [
       "\"\\n.. _statsrefmanual:\\n\\n==========================================\\nStatistical functions (:mod:`scipy.stats`)\\n==========================================\\n\\n.. currentmodule:: scipy.stats\\n\\nThis module contains a large number of probability distributions,\\nsummary and frequency statistics, correlation functions and statistical\\ntests, masked statistics, kernel density estimation, quasi-Monte Carlo\\nfunctionality, and more.\\n\\nStatistics is a very large area, and there are topics that are out of scope\\nfor SciPy and are covered by other packages. Some of the most important ones\\nare:\\n\\n- `statsmodels <https://www.statsmodels.org/stable/index.html>`__:\\n  regression, linear models, time series analysis, extensions to topics\\n  also covered by ``scipy.stats``.\\n- `Pandas <https://pandas.pydata.org/>`__: tabular data, time series\\n  functionality, interfaces to other statistical languages.\\n- `PyMC <https://docs.pymc.io/>`__: Bayesian statistical\\n  modeling, probabilistic machine learning.\\n- `scikit-learn <https://scikit-learn.org/>`__: classification, regression,\\n  model selection.\\n- `Seaborn <https://seaborn.pydata.org/>`__: statistical data visualization.\\n- `rpy2 <https://rpy2.github.io/>`__: Python to R bridge.\\n\\n\\nProbability distributions\\n=========================\\n\\nEach univariate distribution is an instance of a subclass of `rv_continuous`\\n(`rv_discrete` for discrete distributions):\\n\\n.. autosummary::\\n   :toctree: generated/\\n\\n   rv_continuous\\n   rv_discrete\\n   rv_histogram\\n\\nContinuous distributions\\n------------------------\\n\\n.. autosummary::\\n   :toctree: generated/\\n\\n   alpha             -- Alpha\\n   anglit            -- Anglit\\n   arcsine           -- Arcsine\\n   argus             -- Argus\\n   beta              -- Beta\\n   betaprime         -- Beta Prime\\n   bradford          -- Bradford\\n   burr              -- Burr (Type III)\\n   burr12            -- Burr (Type XII)\\n   cauchy            -- Cauchy\\n   chi               -- Chi\\n   chi2              -- Chi-squared\\n   cosine            -- Cosine\\n   crystalball       -- Crystalball\\n   dgamma            -- Double Gamma\\n   dpareto_lognorm   -- Double Pareto Lognormal\\n   dweibull          -- Double Weibull\\n   erlang            -- Erlang\\n   expon             -- Exponential\\n   exponnorm         -- Exponentially Modified Normal\\n   exponweib         -- Exponentiated Weibull\\n   exponpow          -- Exponential Power\\n   f                 -- F (Snecdor F)\\n   fatiguelife       -- Fatigue Life (Birnbaum-Saunders)\\n   fisk              -- Fisk\\n   foldcauchy        -- Folded Cauchy\\n   foldnorm          -- Folded Normal\\n   genlogistic       -- Generalized Logistic\\n   gennorm           -- Generalized normal\\n   genpareto         -- Generalized Pareto\\n   genexpon          -- Generalized Exponential\\n   genextreme        -- Generalized Extreme Value\\n   gausshyper        -- Gauss Hypergeometric\\n   gamma             -- Gamma\\n   gengamma          -- Generalized gamma\\n   genhalflogistic   -- Generalized Half Logistic\\n   genhyperbolic     -- Generalized Hyperbolic\\n   geninvgauss       -- Generalized Inverse Gaussian\\n   gibrat            -- Gibrat\\n   gompertz          -- Gompertz (Truncated Gumbel)\\n   gumbel_r          -- Right Sided Gumbel, Log-Weibull, Fisher-Tippett, Extreme Value Type I\\n   gumbel_l          -- Left Sided Gumbel, etc.\\n   halfcauchy        -- Half Cauchy\\n   halflogistic      -- Half Logistic\\n   halfnorm          -- Half Normal\\n   halfgennorm       -- Generalized Half Normal\\n   hypsecant         -- Hyperbolic Secant\\n   invgamma          -- Inverse Gamma\\n   invgauss          -- Inverse Gaussian\\n   invweibull        -- Inverse Weibull\\n   irwinhall         -- Irwin-Hall\\n   jf_skew_t         -- Jones and Faddy Skew-T\\n   johnsonsb         -- Johnson SB\\n   johnsonsu         -- Johnson SU\\n   kappa4            -- Kappa 4 parameter\\n   kappa3            -- Kappa 3 parameter\\n   ksone             -- Distribution of Kolmogorov-Smirnov one-sided test statistic\\n   kstwo             -- Distribution of Kolmogorov-Smirnov two-sided test statistic\\n   kstwobign         -- Limiting Distribution of scaled Kolmogorov-Smirnov two-sided test statistic.\\n   landau            -- Landau\\n   laplace           -- Laplace\\n   laplace_asymmetric    -- Asymmetric Laplace\\n   levy              -- Levy\\n   levy_l\\n   levy_stable\\n   logistic          -- Logistic\\n   loggamma          -- Log-Gamma\\n   loglaplace        -- Log-Laplace (Log Double Exponential)\\n   lognorm           -- Log-Normal\\n   loguniform        -- Log-Uniform\\n   lomax             -- Lomax (Pareto of the second kind)\\n   maxwell           -- Maxwell\\n   mielke            -- Mielke's Beta-Kappa\\n   moyal             -- Moyal\\n   nakagami          -- Nakagami\\n   ncx2              -- Non-central chi-squared\\n   ncf               -- Non-central F\\n   nct               -- Non-central Student's T\\n   norm              -- Normal (Gaussian)\\n   norminvgauss      -- Normal Inverse Gaussian\\n   pareto            -- Pareto\\n   pearson3          -- Pearson type III\\n   powerlaw          -- Power-function\\n   powerlognorm      -- Power log normal\\n   powernorm         -- Power normal\\n   rdist             -- R-distribution\\n   rayleigh          -- Rayleigh\\n   rel_breitwigner   -- Relativistic Breit-Wigner\\n   rice              -- Rice\\n   recipinvgauss     -- Reciprocal Inverse Gaussian\\n   semicircular      -- Semicircular\\n   skewcauchy        -- Skew Cauchy\\n   skewnorm          -- Skew normal\\n   studentized_range    -- Studentized Range\\n   t                 -- Student's T\\n   trapezoid         -- Trapezoidal\\n   triang            -- Triangular\\n   truncexpon        -- Truncated Exponential\\n   truncnorm         -- Truncated Normal\\n   truncpareto       -- Truncated Pareto\\n   truncweibull_min  -- Truncated minimum Weibull distribution\\n   tukeylambda       -- Tukey-Lambda\\n   uniform           -- Uniform\\n   vonmises          -- Von-Mises (Circular)\\n   vonmises_line     -- Von-Mises (Line)\\n   wald              -- Wald\\n   weibull_min       -- Minimum Weibull (see Frechet)\\n   weibull_max       -- Maximum Weibull (see Frechet)\\n   wrapcauchy        -- Wrapped Cauchy\\n\\nThe ``fit`` method of the univariate continuous distributions uses\\nmaximum likelihood estimation to fit the distribution to a data set.\\nThe ``fit`` method can accept regular data or *censored data*.\\nCensored data is represented with instances of the `CensoredData`\\nclass.\\n\\n.. autosummary::\\n   :toctree: generated/\\n\\n   CensoredData\\n\\n\\nMultivariate distributions\\n--------------------------\\n\\n.. autosummary::\\n   :toctree: generated/\\n\\n   multivariate_normal    -- Multivariate normal distribution\\n   matrix_normal          -- Matrix normal distribution\\n   dirichlet              -- Dirichlet\\n   dirichlet_multinomial  -- Dirichlet multinomial distribution\\n   wishart                -- Wishart\\n   invwishart             -- Inverse Wishart\\n   multinomial            -- Multinomial distribution\\n   special_ortho_group    -- SO(N) group\\n   ortho_group            -- O(N) group\\n   unitary_group          -- U(N) group\\n   random_correlation     -- random correlation matrices\\n   multivariate_t         -- Multivariate t-distribution\\n   multivariate_hypergeom -- Multivariate hypergeometric distribution\\n   normal_inverse_gamma   -- Normal-inverse-gamma distribution\\n   random_table           -- Distribution of random tables with given marginals\\n   uniform_direction      -- Uniform distribution on S(N-1)\\n   vonmises_fisher        -- Von Mises-Fisher distribution\\n\\n`scipy.stats.multivariate_normal` methods accept instances\\nof the following class to represent the covariance.\\n\\n.. autosummary::\\n   :toctree: generated/\\n\\n   Covariance             -- Representation of a covariance matrix\\n\\n\\nDiscrete distributions\\n----------------------\\n\\n.. autosummary::\\n   :toctree: generated/\\n\\n   bernoulli                -- Bernoulli\\n   betabinom                -- Beta-Binomial\\n   betanbinom               -- Beta-Negative Binomial\\n   binom                    -- Binomial\\n   boltzmann                -- Boltzmann (Truncated Discrete Exponential)\\n   dlaplace                 -- Discrete Laplacian\\n   geom                     -- Geometric\\n   hypergeom                -- Hypergeometric\\n   logser                   -- Logarithmic (Log-Series, Series)\\n   nbinom                   -- Negative Binomial\\n   nchypergeom_fisher       -- Fisher's Noncentral Hypergeometric\\n   nchypergeom_wallenius    -- Wallenius's Noncentral Hypergeometric\\n   nhypergeom               -- Negative Hypergeometric\\n   planck                   -- Planck (Discrete Exponential)\\n   poisson                  -- Poisson\\n   poisson_binom            -- Poisson Binomial\\n   randint                  -- Discrete Uniform\\n   skellam                  -- Skellam\\n   yulesimon                -- Yule-Simon\\n   zipf                     -- Zipf (Zeta)\\n   zipfian                  -- Zipfian\\n\\n\\nAn overview of statistical functions is given below.  Many of these functions\\nhave a similar version in `scipy.stats.mstats` which work for masked arrays.\\n\\nSummary statistics\\n==================\\n\\n.. autosummary::\\n   :toctree: generated/\\n\\n   describe          -- Descriptive statistics\\n   gmean             -- Geometric mean\\n   hmean             -- Harmonic mean\\n   pmean             -- Power mean\\n   kurtosis          -- Fisher or Pearson kurtosis\\n   mode              -- Modal value\\n   moment            -- Central moment\\n   lmoment\\n   expectile         -- Expectile\\n   skew              -- Skewness\\n   kstat             --\\n   kstatvar          --\\n   tmean             -- Truncated arithmetic mean\\n   tvar              -- Truncated variance\\n   tmin              --\\n   tmax              --\\n   tstd              --\\n   tsem              --\\n   variation         -- Coefficient of variation\\n   find_repeats\\n   rankdata\\n   tiecorrect\\n   trim_mean\\n   gstd              -- Geometric Standard Deviation\\n   iqr\\n   sem\\n   bayes_mvs\\n   mvsdist\\n   entropy\\n   differential_entropy\\n   median_abs_deviation\\n\\nFrequency statistics\\n====================\\n\\n.. autosummary::\\n   :toctree: generated/\\n\\n   cumfreq\\n   percentileofscore\\n   scoreatpercentile\\n   relfreq\\n\\n.. autosummary::\\n   :toctree: generated/\\n\\n   binned_statistic     -- Compute a binned statistic for a set of data.\\n   binned_statistic_2d  -- Compute a 2-D binned statistic for a set of data.\\n   binned_statistic_dd  -- Compute a d-D binned statistic for a set of data.\\n\\n.. _hypotests:\\n\\nHypothesis Tests and related functions\\n======================================\\nSciPy has many functions for performing hypothesis tests that return a\\ntest statistic and a p-value, and several of them return confidence intervals\\nand/or other related information.\\n\\nThe headings below are based on common uses of the functions within, but due to\\nthe wide variety of statistical procedures, any attempt at coarse-grained\\ncategorization will be imperfect. Also, note that tests within the same heading\\nare not interchangeable in general (e.g. many have different distributional\\nassumptions).\\n\\nOne Sample Tests / Paired Sample Tests\\n--------------------------------------\\nOne sample tests are typically used to assess whether a single sample was\\ndrawn from a specified distribution or a distribution with specified properties\\n(e.g. zero mean).\\n\\n.. autosummary::\\n   :toctree: generated/\\n\\n   ttest_1samp\\n   binomtest\\n   quantile_test\\n   skewtest\\n   kurtosistest\\n   normaltest\\n   jarque_bera\\n   shapiro\\n   anderson\\n   cramervonmises\\n   ks_1samp\\n   goodness_of_fit\\n   chisquare\\n   power_divergence\\n\\nPaired sample tests are often used to assess whether two samples were drawn\\nfrom the same distribution; they differ from the independent sample tests below\\nin that each observation in one sample is treated as paired with a\\nclosely-related observation in the other sample (e.g. when environmental\\nfactors are controlled between observations within a pair but not among pairs).\\nThey can also be interpreted or used as one-sample tests (e.g. tests on the\\nmean or median of *differences* between paired observations).\\n\\n.. autosummary::\\n   :toctree: generated/\\n\\n   ttest_rel\\n   wilcoxon\\n\\nAssociation/Correlation Tests\\n-----------------------------\\n\\nThese tests are often used to assess whether there is a relationship (e.g.\\nlinear) between paired observations in multiple samples or among the\\ncoordinates of multivariate observations.\\n\\n.. autosummary::\\n   :toctree: generated/\\n\\n   linregress\\n   pearsonr\\n   spearmanr\\n   pointbiserialr\\n   kendalltau\\n   chatterjeexi\\n   weightedtau\\n   somersd\\n   siegelslopes\\n   theilslopes\\n   page_trend_test\\n   multiscale_graphcorr\\n\\nThese association tests and are to work with samples in the form of contingency\\ntables. Supporting functions are available in `scipy.stats.contingency`.\\n\\n.. autosummary::\\n   :toctree: generated/\\n\\n   chi2_contingency\\n   fisher_exact\\n   barnard_exact\\n   boschloo_exact\\n\\nIndependent Sample Tests\\n------------------------\\nIndependent sample tests are typically used to assess whether multiple samples\\nwere independently drawn from the same distribution or different distributions\\nwith a shared property (e.g. equal means).\\n\\nSome tests are specifically for comparing two samples.\\n\\n.. autosummary::\\n   :toctree: generated/\\n\\n   ttest_ind_from_stats\\n   poisson_means_test\\n   ttest_ind\\n   mannwhitneyu\\n   bws_test\\n   ranksums\\n   brunnermunzel\\n   mood\\n   ansari\\n   cramervonmises_2samp\\n   epps_singleton_2samp\\n   ks_2samp\\n   kstest\\n\\nOthers are generalized to multiple samples.\\n\\n.. autosummary::\\n   :toctree: generated/\\n\\n   f_oneway\\n   tukey_hsd\\n   dunnett\\n   kruskal\\n   alexandergovern\\n   fligner\\n   levene\\n   bartlett\\n   median_test\\n   friedmanchisquare\\n   anderson_ksamp\\n\\nResampling and Monte Carlo Methods\\n----------------------------------\\nThe following functions can reproduce the p-value and confidence interval\\nresults of most of the functions above, and often produce accurate results in a\\nwider variety of conditions. They can also be used to perform hypothesis tests\\nand generate confidence intervals for custom statistics. This flexibility comes\\nat the cost of greater computational requirements and stochastic results.\\n\\n.. autosummary::\\n   :toctree: generated/\\n\\n   monte_carlo_test\\n   permutation_test\\n   bootstrap\\n   power\\n\\nInstances of the following object can be passed into some hypothesis test\\nfunctions to perform a resampling or Monte Carlo version of the hypothesis\\ntest.\\n\\n.. autosummary::\\n   :toctree: generated/\\n\\n   MonteCarloMethod\\n   PermutationMethod\\n   BootstrapMethod\\n\\nMultiple Hypothesis Testing and Meta-Analysis\\n---------------------------------------------\\nThese functions are for assessing the results of individual tests as a whole.\\nFunctions for performing specific multiple hypothesis tests (e.g. post hoc\\ntests) are listed above.\\n\\n.. autosummary::\\n   :toctree: generated/\\n\\n   combine_pvalues\\n   false_discovery_control\\n\\n\\nThe following functions are related to the tests above but do not belong in the\\nabove categories.\\n\\nRandom Variables\\n================\\n\\n.. autosummary::\\n   :toctree: generated/\\n\\n   make_distribution\\n   Normal\\n   Uniform\\n   Mixture\\n   order_statistic\\n   truncate\\n   abs\\n   exp\\n   log\\n\\nQuasi-Monte Carlo\\n=================\\n\\n.. toctree::\\n   :maxdepth: 4\\n\\n   stats.qmc\\n\\nContingency Tables\\n==================\\n\\n.. toctree::\\n   :maxdepth: 4\\n\\n   stats.contingency\\n\\nMasked statistics functions\\n===========================\\n\\n.. toctree::\\n\\n   stats.mstats\\n\\n\\nOther statistical functionality\\n===============================\\n\\nTransformations\\n---------------\\n\\n.. autosummary::\\n   :toctree: generated/\\n\\n   boxcox\\n   boxcox_normmax\\n   boxcox_llf\\n   yeojohnson\\n   yeojohnson_normmax\\n   yeojohnson_llf\\n   obrientransform\\n   sigmaclip\\n   trimboth\\n   trim1\\n   zmap\\n   zscore\\n   gzscore\\n\\nStatistical distances\\n---------------------\\n\\n.. autosummary::\\n   :toctree: generated/\\n\\n   wasserstein_distance\\n   wasserstein_distance_nd\\n   energy_distance\\n\\nSampling\\n--------\\n\\n.. toctree::\\n   :maxdepth: 4\\n\\n   stats.sampling\\n\\nFitting / Survival Analysis\\n---------------------------\\n\\n.. autosummary::\\n   :toctree: generated/\\n\\n   fit\\n   ecdf\\n   logrank\\n\\nDirectional statistical functions\\n---------------------------------\\n\\n.. autosummary::\\n   :toctree: generated/\\n\\n   directional_stats\\n   circmean\\n   circvar\\n   circstd\\n\\nSensitivity Analysis\\n--------------------\\n\\n.. autosummary::\\n   :toctree: generated/\\n\\n   sobol_indices\\n\\nPlot-tests\\n----------\\n\\n.. autosummary::\\n   :toctree: generated/\\n\\n   ppcc_max\\n   ppcc_plot\\n   probplot\\n   boxcox_normplot\\n   yeojohnson_normplot\\n\\nUnivariate and multivariate kernel density estimation\\n-----------------------------------------------------\\n\\n.. autosummary::\\n   :toctree: generated/\\n\\n   gaussian_kde\\n\\nWarnings / Errors used in :mod:`scipy.stats`\\n--------------------------------------------\\n\\n.. autosummary::\\n   :toctree: generated/\\n\\n   DegenerateDataWarning\\n   ConstantInputWarning\\n   NearConstantInputWarning\\n   FitError\\n\\nResult classes used in :mod:`scipy.stats`\\n-----------------------------------------\\n\\n.. warning::\\n\\n    These classes are private, but they are included here because instances\\n    of them are returned by other statistical functions. User import and\\n    instantiation is not supported.\\n\\n.. toctree::\\n   :maxdepth: 2\\n\\n   stats._result_classes\\n\\n\""
      ]
     },
     "execution_count": 25,
     "metadata": {},
     "output_type": "execute_result"
    }
   ],
   "source": [
    "stats.__doc__"
   ]
  },
  {
   "cell_type": "markdown",
   "metadata": {},
   "source": [
    "__A:__\n",
    "\n",
    "There is not an equivalent one for performing a z-test from a sample. "
   ]
  },
  {
   "cell_type": "markdown",
   "metadata": {},
   "source": [
    "## Learning outcomes"
   ]
  },
  {
   "cell_type": "markdown",
   "metadata": {},
   "source": [
    "Having completed this project notebook, you now have good hands-on experience:\n",
    "* using the central limit theorem to help you apply frequentist techniques to answer questions that pertain to very non-normally distributed data from the real world\n",
    "* performing inference using such data to answer business questions\n",
    "* forming a hypothesis and framing the null and alternative hypotheses\n",
    "* testing this using a _t_-test"
   ]
  }
 ],
 "metadata": {
  "kernelspec": {
   "display_name": "Python [conda env:base] *",
   "language": "python",
   "name": "conda-base-py"
  },
  "language_info": {
   "codemirror_mode": {
    "name": "ipython",
    "version": 3
   },
   "file_extension": ".py",
   "mimetype": "text/x-python",
   "name": "python",
   "nbconvert_exporter": "python",
   "pygments_lexer": "ipython3",
   "version": "3.13.5"
  }
 },
 "nbformat": 4,
 "nbformat_minor": 4
}
